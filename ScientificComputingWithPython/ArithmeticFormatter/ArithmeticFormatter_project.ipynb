{
 "cells": [
  {
   "cell_type": "code",
   "execution_count": 3,
   "id": "27b3b421-a82a-41db-aba9-013fcf9a5e52",
   "metadata": {},
   "outputs": [],
   "source": [
    "def arithmetic_arranger(problems, show_answers=False):\n",
    "    if len(problems) >5:\n",
    "        return \"Error: Too many problems.\"\n",
    "\n",
    "    arranged_problems = \"\"\n",
    "    first_line = \"\"\n",
    "    second_line = \"\"\n",
    "    separator_line = \"\"\n",
    "    answers_line = \"\"\n",
    "\n",
    "    for problem in problems:\n",
    "        parts = problem.split()\n",
    "        if len(parts) != 3:\n",
    "            return \"Error: Problems must be in the format 'number operator number'.\"\n",
    "\n",
    "        num1 = parts[0]\n",
    "        operator = parts[1]\n",
    "        num2 = parts[2]\n",
    "\n",
    "        if not num1.isdigit() or not num2.isdigit():\n",
    "            return 'Error: Numbers must only contain digits.'\n",
    "\n",
    "        if operator != '+' and operator != '-':\n",
    "            return \"Error: Operator must be '+' or '-'.\"\n",
    "\n",
    "        if len(str(num1)) == 5 or len(str(num2)) == 5:\n",
    "            return \"Error: Numbers cannot be more than four digits.\"\n",
    "\n",
    "        width = max(len(num1), len(num2)) + 2  # Ancho para alinear\n",
    "\n",
    "        first_line += num1.rjust(width) + \"    \"  # Espacios para separar\n",
    "        second_line += operator + \" \" + num2.rjust(width - 2) + \"    \"\n",
    "        separator_line += \"-\" * width + \"    \"\n",
    "\n",
    "        if show_answers:\n",
    "            if operator == \"+\":\n",
    "                answer = int(num1) + int(num2)\n",
    "            else:  # operator == \"-\"\n",
    "                answer = int(num1) - int(num2)\n",
    "            answers_line += str(answer).rjust(width) + \"    \"\n",
    "\n",
    "    arranged_problems = first_line.rstrip() + \"\\n\" + second_line.rstrip() + \"\\n\" + separator_line.rstrip()\n",
    "\n",
    "    if show_answers:\n",
    "        arranged_problems += \"\\n\" + answers_line.rstrip()\n",
    "\n",
    "    return arranged_problems"
   ]
  },
  {
   "cell_type": "code",
   "execution_count": 5,
   "id": "dc67a202-e8a1-4617-8bb8-fa7b6341a7c0",
   "metadata": {},
   "outputs": [
    {
     "name": "stdout",
     "output_type": "stream",
     "text": [
      "\n",
      "   32      3801      45      123\n",
      "- 698    -    2    + 43    +  49\n",
      "-----    ------    ----    -----\n"
     ]
    }
   ],
   "source": [
    "print(f'\\n{arithmetic_arranger([\"32 - 698\", \"3801 - 2\", \"45 + 43\", \"123 + 49\"])}')"
   ]
  },
  {
   "cell_type": "code",
   "execution_count": 7,
   "id": "f1574bb4-7c40-4e9a-92fd-b6fa2cda3ca7",
   "metadata": {},
   "outputs": [
    {
     "name": "stdout",
     "output_type": "stream",
     "text": [
      "\n",
      "Error: Numbers must only contain digits.\n"
     ]
    }
   ],
   "source": [
    "print(f'\\n{arithmetic_arranger([\"98 + 3g5\", \"3801 - 2\", \"45 + 43\", \"123 + 49\"])}')"
   ]
  }
 ],
 "metadata": {
  "kernelspec": {
   "display_name": "Python 3 (ipykernel)",
   "language": "python",
   "name": "python3"
  },
  "language_info": {
   "codemirror_mode": {
    "name": "ipython",
    "version": 3
   },
   "file_extension": ".py",
   "mimetype": "text/x-python",
   "name": "python",
   "nbconvert_exporter": "python",
   "pygments_lexer": "ipython3",
   "version": "3.12.7"
  }
 },
 "nbformat": 4,
 "nbformat_minor": 5
}
