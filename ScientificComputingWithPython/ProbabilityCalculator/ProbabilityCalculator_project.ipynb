{
 "cells": [
  {
   "cell_type": "code",
   "execution_count": 3,
   "id": "27b3b421-a82a-41db-aba9-013fcf9a5e52",
   "metadata": {},
   "outputs": [],
   "source": [
    "import copy\n",
    "import random\n",
    "# Consider using the modules imported above.\n",
    "\n",
    "class Hat:\n",
    "  def __init__(self, **kwargs) :\n",
    "    self.contents = [ key for key,val in kwargs.items() for i in range(val) ]\n",
    "    \n",
    "  def draw(self, num = 0) :\n",
    "    min_val = min(num, len(self.contents))\n",
    "    pick_balls = [ self.contents.pop( random.randrange(len(self.contents)) ) \n",
    "                   for i in range(min_val) \n",
    "                 ]\n",
    "    return pick_balls\n",
    "  \n",
    "def experiment(hat, expected_balls, num_balls_drawn, num_experiments) :\n",
    "  match_drawn = 0\n",
    "  for i in range(num_experiments) :\n",
    "    \n",
    "    # create copy of class\n",
    "    class_hat = copy.deepcopy(hat)\n",
    "    \n",
    "    # count each drawn\n",
    "    pick_balls       = class_hat.draw(num_balls_drawn)\n",
    "    pick_balls_count = {}\n",
    "    for pb in pick_balls : pick_balls_count[pb] = pick_balls.count(pb)\n",
    "    \n",
    "    # compare drawn balls with expected balls\n",
    "    comparisson    = [ (True if (key in pick_balls_count.keys() and pick_balls_count[key] >= val) else False)\n",
    "                         for (key, val) in expected_balls.items() ]\n",
    "    compare_result = comparisson.count(True) == len(expected_balls.keys())\n",
    "    match_drawn   += 1 if compare_result == True else 0\n",
    "    \n",
    "  # count probability of all expected and match drawn\n",
    "  probability = round((match_drawn/num_experiments),3)\n",
    "  \n",
    "  return probability"
   ]
  },
  {
   "cell_type": "code",
   "execution_count": 5,
   "id": "0d2ea0d9",
   "metadata": {},
   "outputs": [],
   "source": [
    "hat = Hat(black=6, red=4, green=3)\n",
    "probability = experiment(hat=hat,\n",
    "                  expected_balls={'red':2,'green':1},\n",
    "                  num_balls_drawn=5,\n",
    "                  num_experiments=2000)"
   ]
  }
 ],
 "metadata": {
  "kernelspec": {
   "display_name": "Python 3",
   "language": "python",
   "name": "python3"
  },
  "language_info": {
   "codemirror_mode": {
    "name": "ipython",
    "version": 3
   },
   "file_extension": ".py",
   "mimetype": "text/x-python",
   "name": "python",
   "nbconvert_exporter": "python",
   "pygments_lexer": "ipython3",
   "version": "3.12.2"
  }
 },
 "nbformat": 4,
 "nbformat_minor": 5
}
