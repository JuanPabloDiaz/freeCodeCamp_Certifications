{
 "cells": [
  {
   "cell_type": "code",
   "execution_count": 4,
   "id": "27b3b421-a82a-41db-aba9-013fcf9a5e52",
   "metadata": {},
   "outputs": [],
   "source": [
    "class Rectangle:\n",
    "    def __init__(self, width, height):\n",
    "        self.width = width\n",
    "        self.height = height\n",
    "\n",
    "    def set_width(self, width):\n",
    "        self.width = width\n",
    "\n",
    "    def set_height(self, height):\n",
    "        self.height = height\n",
    "\n",
    "    def get_area(self):\n",
    "        return self.width * self.height\n",
    "\n",
    "    def get_perimeter(self):\n",
    "        return 2 * self.width + 2 * self.height\n",
    "\n",
    "    def get_diagonal(self):\n",
    "        return (self.width ** 2 + self.height ** 2) ** 0.5\n",
    "\n",
    "    def get_picture(self):\n",
    "        if self.width > 50 or self.height > 50:\n",
    "            return \"Too big for picture.\"\n",
    "        picture = \"\"\n",
    "        for _ in range(self.height):\n",
    "            picture += \"*\" * self.width + \"\\n\"\n",
    "        return picture\n",
    "\n",
    "    def get_amount_inside(self, shape):\n",
    "        if isinstance(shape, Rectangle):\n",
    "            return (self.width // shape.width) * (self.height // shape.height)\n",
    "        return 0  # Handle cases where shape is not a Rectangle or Square\n",
    "\n",
    "    def __str__(self):\n",
    "        return f\"Rectangle(width={self.width}, height={self.height})\"\n",
    "\n",
    "\n",
    "class Square(Rectangle):\n",
    "    def __init__(self, side):\n",
    "        super().__init__(side, side)  # Initialize with side for both width and height\n",
    "\n",
    "    def set_side(self, side):\n",
    "        self.width = side\n",
    "        self.height = side\n",
    "\n",
    "    def set_width(self, width):\n",
    "        self.width = width\n",
    "        self.height = width # Maintain square shape\n",
    "\n",
    "    def set_height(self, height):\n",
    "        self.height = height\n",
    "        self.width = height # Maintain square shape\n",
    "\n",
    "    def __str__(self):\n",
    "        return f\"Square(side={self.width})\""
   ]
  },
  {
   "cell_type": "code",
   "execution_count": 6,
   "id": "6e49ec55-5f5c-4bc9-a4b8-4c55862a56d9",
   "metadata": {},
   "outputs": [
    {
     "name": "stdout",
     "output_type": "stream",
     "text": [
      "50\n",
      "26\n",
      "Rectangle(width=10, height=3)\n",
      "**********\n",
      "**********\n",
      "**********\n",
      "\n",
      "81\n",
      "5.656854249492381\n",
      "Square(side=4)\n",
      "****\n",
      "****\n",
      "****\n",
      "****\n",
      "\n",
      "8\n"
     ]
    }
   ],
   "source": [
    "# Usage example:\n",
    "rect = Rectangle(10, 5)\n",
    "print(rect.get_area())\n",
    "rect.set_height(3)\n",
    "print(rect.get_perimeter())\n",
    "print(rect)\n",
    "print(rect.get_picture())\n",
    "\n",
    "sq = Square(9)\n",
    "print(sq.get_area())\n",
    "sq.set_side(4)\n",
    "print(sq.get_diagonal())\n",
    "print(sq)\n",
    "print(sq.get_picture())\n",
    "\n",
    "rect.set_height(8)\n",
    "rect.set_width(16)\n",
    "print(rect.get_amount_inside(sq))"
   ]
  }
 ],
 "metadata": {
  "kernelspec": {
   "display_name": "Python 3 (ipykernel)",
   "language": "python",
   "name": "python3"
  },
  "language_info": {
   "codemirror_mode": {
    "name": "ipython",
    "version": 3
   },
   "file_extension": ".py",
   "mimetype": "text/x-python",
   "name": "python",
   "nbconvert_exporter": "python",
   "pygments_lexer": "ipython3",
   "version": "3.12.7"
  }
 },
 "nbformat": 4,
 "nbformat_minor": 5
}
