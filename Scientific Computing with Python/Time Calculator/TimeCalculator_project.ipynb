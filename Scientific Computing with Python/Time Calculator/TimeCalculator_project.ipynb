{
 "cells": [
  {
   "cell_type": "code",
   "execution_count": 6,
   "id": "f723e00e-71d1-4563-b08e-3cb82edb501d",
   "metadata": {},
   "outputs": [],
   "source": [
    "def add_time(start, duration, starting_day=None):\n",
    "    # Parse the start time\n",
    "    start_time, period = start.split()\n",
    "    start_hour, start_minute = map(int, start_time.split(':'))\n",
    "    if period == 'PM':\n",
    "        start_hour += 12 if start_hour < 12 else 0\n",
    "    elif period == 'AM' and start_hour == 12:\n",
    "        start_hour = 0\n",
    "    \n",
    "    # Parse the duration time\n",
    "    duration_hour, duration_minute = map(int, duration.split(':'))\n",
    "    \n",
    "    # Calculate new time\n",
    "    total_minutes = start_hour * 60 + start_minute + duration_hour * 60 + duration_minute\n",
    "    new_hour = (total_minutes // 60) % 24\n",
    "    new_minute = total_minutes % 60\n",
    "    days_later = total_minutes // (24 * 60)\n",
    "    \n",
    "    # Determine new period and hour\n",
    "    period = 'AM' if new_hour < 12 else 'PM'\n",
    "    new_hour = new_hour if new_hour != 0 else 12\n",
    "    if new_hour > 12:\n",
    "        new_hour -= 12\n",
    "    \n",
    "    # Handle day of the week\n",
    "    days_of_week = ['Monday', 'Tuesday', 'Wednesday', 'Thursday', 'Friday', 'Saturday', 'Sunday']\n",
    "    if starting_day:\n",
    "        starting_day = starting_day.capitalize()\n",
    "        day_index = days_of_week.index(starting_day)\n",
    "        new_day = days_of_week[(day_index + days_later) % 7]\n",
    "    else:\n",
    "        new_day = None\n",
    "    \n",
    "    # Format result\n",
    "    time_string = f\"{new_hour}:{new_minute:02d} {period}\"\n",
    "    if new_day:\n",
    "        time_string += f\", {new_day}\"\n",
    "    if days_later == 1:\n",
    "        time_string += \" (next day)\"\n",
    "    elif days_later > 1:\n",
    "        time_string += f\" ({days_later} days later)\"\n",
    "    \n",
    "    return time_string"
   ]
  },
  {
   "cell_type": "code",
   "execution_count": 12,
   "id": "ffe31c8e-e57c-4569-b351-4793ace1cc63",
   "metadata": {},
   "outputs": [
    {
     "data": {
      "text/plain": [
       "'6:10 PM'"
      ]
     },
     "execution_count": 12,
     "metadata": {},
     "output_type": "execute_result"
    }
   ],
   "source": [
    "add_time('3:00 PM', '3:10')\n",
    "# Returns: 6:10 PM"
   ]
  },
  {
   "cell_type": "code",
   "execution_count": 14,
   "id": "2900c24b-5105-4336-9be6-38778a6eefd1",
   "metadata": {},
   "outputs": [
    {
     "data": {
      "text/plain": [
       "'2:02 PM, Monday'"
      ]
     },
     "execution_count": 14,
     "metadata": {},
     "output_type": "execute_result"
    }
   ],
   "source": [
    "add_time('11:30 AM', '2:32', 'Monday')\n",
    "# Returns: 2:02 PM, Monday"
   ]
  },
  {
   "cell_type": "code",
   "execution_count": null,
   "id": "146af702",
   "metadata": {},
   "outputs": [],
   "source": []
  },
  {
   "cell_type": "code",
   "execution_count": 24,
   "id": "7a945fd8-8f4b-4ddd-af19-27d3558b3b04",
   "metadata": {},
   "outputs": [
    {
     "data": {
      "text/plain": [
       "'12:03 PM'"
      ]
     },
     "execution_count": 24,
     "metadata": {},
     "output_type": "execute_result"
    }
   ],
   "source": [
    "add_time('11:43 AM', '00:20')\n",
    "# Returns: 12:03 PM"
   ]
  },
  {
   "cell_type": "code",
   "execution_count": 22,
   "id": "d5169aa9-3e31-4073-bdfd-3dbcc3df8c7b",
   "metadata": {},
   "outputs": [
    {
     "data": {
      "text/plain": [
       "'1:40 AM (next day)'"
      ]
     },
     "execution_count": 22,
     "metadata": {},
     "output_type": "execute_result"
    }
   ],
   "source": [
    "add_time('10:10 PM', '3:30')\n",
    "# Returns: 1:40 AM (next day)"
   ]
  },
  {
   "cell_type": "code",
   "execution_count": 20,
   "id": "9e930e49-4653-4acd-b23b-834194bd65b2",
   "metadata": {},
   "outputs": [
    {
     "data": {
      "text/plain": [
       "'12:03 AM, Thursday (2 days later)'"
      ]
     },
     "execution_count": 20,
     "metadata": {},
     "output_type": "execute_result"
    }
   ],
   "source": [
    "add_time('11:43 PM', '24:20', 'tueSday')\n",
    "# Returns: 12:03 AM, Thursday (2 days later)"
   ]
  },
  {
   "cell_type": "code",
   "execution_count": 18,
   "id": "8c994282-a370-46cf-b48c-110c94b20cb2",
   "metadata": {},
   "outputs": [
    {
     "data": {
      "text/plain": [
       "'7:42 AM (9 days later)'"
      ]
     },
     "execution_count": 18,
     "metadata": {},
     "output_type": "execute_result"
    }
   ],
   "source": [
    "add_time('6:30 PM', '205:12')\n",
    "# Returns: 7:42 AM (9 days later)"
   ]
  },
  {
   "cell_type": "markdown",
   "id": "1761ed23",
   "metadata": {},
   "source": [
    "### Final Solution"
   ]
  },
  {
   "cell_type": "code",
   "execution_count": 3,
   "id": "35fd58b6",
   "metadata": {},
   "outputs": [],
   "source": [
    "def add_time(start, duration, day_of_week=False):\n",
    "    days_of_week = [\"monday\", \"tuesday\", \"wednesday\", \"thursday\", \"friday\", \"saturday\", \"sunday\"]\n",
    "    if day_of_week:\n",
    "        day_of_week = day_of_week.lower()\n",
    "        day_index = days_of_week.index(day_of_week)\n",
    "    \n",
    "    start_time, am_pm = start.split()\n",
    "    start_hour, start_minute = map(int, start_time.split(':'))\n",
    "    if am_pm == 'PM':\n",
    "        start_hour += 12\n",
    "    \n",
    "    duration_hour, duration_minute = map(int, duration.split(':'))\n",
    "    \n",
    "    total_minutes = start_hour * 60 + start_minute + duration_hour * 60 + duration_minute\n",
    "    \n",
    "    end_hour = (total_minutes // 60) % 24\n",
    "    end_minute = total_minutes % 60\n",
    "    \n",
    "    days_later = total_minutes // (24 * 60)\n",
    "    \n",
    "    end_am_pm = 'AM' if end_hour < 12 or end_hour == 24 else 'PM'\n",
    "    end_hour = end_hour % 12\n",
    "    if end_hour == 0:\n",
    "        end_hour = 12\n",
    "    \n",
    "    end_time = f\"{end_hour}:{end_minute:02} {end_am_pm}\"\n",
    "    \n",
    "    result = end_time\n",
    "    \n",
    "    if day_of_week:\n",
    "        end_day_index = (day_index + days_later) % 7\n",
    "        end_day = days_of_week[end_day_index].capitalize()\n",
    "        result += f\", {end_day}\"\n",
    "    \n",
    "    if days_later == 1:\n",
    "        result += \" (next day)\"\n",
    "    elif days_later > 1:\n",
    "        result += f\" ({days_later} days later)\"\n",
    "        \n",
    "    return result"
   ]
  },
  {
   "cell_type": "code",
   "execution_count": 5,
   "id": "fbcf02d9",
   "metadata": {},
   "outputs": [
    {
     "data": {
      "text/plain": [
       "'7:42 AM (9 days later)'"
      ]
     },
     "execution_count": 5,
     "metadata": {},
     "output_type": "execute_result"
    }
   ],
   "source": [
    "add_time('6:30 PM', '205:12')\n",
    "# Returns: 7:42 AM (9 days later)"
   ]
  },
  {
   "cell_type": "code",
   "execution_count": 11,
   "id": "495e29bf-5f24-43a4-8453-219713483a55",
   "metadata": {},
   "outputs": [
    {
     "data": {
      "text/plain": [
       "'12:03 PM'"
      ]
     },
     "execution_count": 11,
     "metadata": {},
     "output_type": "execute_result"
    }
   ],
   "source": [
    "add_time('11:43 AM', '00:20')\n",
    "# Returns: 12:03 PM"
   ]
  },
  {
   "cell_type": "code",
   "execution_count": 9,
   "id": "87494221-b252-4add-baec-d8c71ee9beb9",
   "metadata": {},
   "outputs": [
    {
     "data": {
      "text/plain": [
       "'2:02 PM, Monday'"
      ]
     },
     "execution_count": 9,
     "metadata": {},
     "output_type": "execute_result"
    }
   ],
   "source": [
    "add_time('11:30 AM', '2:32', 'Monday')\n",
    "# Returns: 2:02 PM, Monday"
   ]
  }
 ],
 "metadata": {
  "kernelspec": {
   "display_name": "Python 3 (ipykernel)",
   "language": "python",
   "name": "python3"
  },
  "language_info": {
   "codemirror_mode": {
    "name": "ipython",
    "version": 3
   },
   "file_extension": ".py",
   "mimetype": "text/x-python",
   "name": "python",
   "nbconvert_exporter": "python",
   "pygments_lexer": "ipython3",
   "version": "3.12.7"
  }
 },
 "nbformat": 4,
 "nbformat_minor": 5
}
